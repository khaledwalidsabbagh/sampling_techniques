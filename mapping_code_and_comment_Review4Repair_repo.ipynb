{
 "cells": [
  {
   "cell_type": "code",
   "execution_count": null,
   "id": "ea822693",
   "metadata": {},
   "outputs": [],
   "source": [
    "import requests\n",
    "import urllib\n",
    "import json\n",
    "import csv\n",
    "import pandas as pd\n",
    "import configparser\n",
    "import json\n",
    "from pandas.io.json import json_normalize\n",
    "import os\n",
    "import glob"
   ]
  },
  {
   "cell_type": "code",
   "execution_count": null,
   "id": "45683112",
   "metadata": {},
   "outputs": [],
   "source": [
    "folder = 'PATH_TO_REPO/Review4Repair_mapped_code_with_comments/'\n",
    "project_folders = [name for name in os.listdir(folder) if os.path.isdir(os.path.join(folder, name))]"
   ]
  },
  {
   "cell_type": "code",
   "execution_count": null,
   "id": "b786533b",
   "metadata": {},
   "outputs": [],
   "source": [
    "code_comment = pd.DataFrame()\n",
    "for proj in project_folders: \n",
    "    try:\n",
    "        with open('PATH_TO_REPO/Review4Repair_mapped_code_with_comments/' + proj +\n",
    "                  '/gerrit_db_' + proj + '.json', encoding=\"utf8\") as f:\n",
    "            proj_gerrit = pd.DataFrame(json.load(f))\n",
    "        with open('PATH_TO_REPO/Review4Repair_mapped_code_with_comments/' + proj +\n",
    "                  '/Downloaded_Codes_'+ proj +'/' + proj + '_MapJSON.json', encoding=\"utf8\") as f: \n",
    "            raw_data = json.loads(f.read())\n",
    "            code_comment = extract_lines_from_patches(proj, proj_gerrit, raw_data)\n",
    "            print(code_comment)\n",
    "    except:\n",
    "        print('dir not found')"
   ]
  },
  {
   "cell_type": "code",
   "execution_count": null,
   "id": "60e4d4d7",
   "metadata": {},
   "outputs": [],
   "source": [
    "def getFileExtenion(filepath):\n",
    "    path_word_list = list(filepath.split(\".\"))\n",
    "    length = len(path_word_list)\n",
    "    return path_word_list[length-1]"
   ]
  },
  {
   "cell_type": "code",
   "execution_count": null,
   "id": "7848fc4f",
   "metadata": {},
   "outputs": [],
   "source": [
    "def extract_lines_from_patches (proj, proj_gerrit, file_mapper):\n",
    "    lines = []\n",
    "    messages = []\n",
    "    files =  []\n",
    "    df_lines_messages = pd.DataFrame(columns=['project', 'Id', 'revision', 'content', 'review_comment', 'filename', 'commented_lines' ])\n",
    "\n",
    "    for key1, row in proj_gerrit.iteritems():\n",
    "        try:\n",
    "                for key2, elem in file_mapper.iteritems():\n",
    "                    if elem[\"encoded_file\"].lower() == row[\"file_name\"].lower():\n",
    "                        file_extension = getFileExtenion(elem[\"Java_file\"])\n",
    "                        directory = str(elem[\"encoded_file\"])\n",
    "                        index_reviewed_line = row[\"line_number\"]\n",
    "                        base_patch = str(row[\"base_patch_number\"]) #the physical file name, corresponding to a patch number\n",
    "                        \n",
    "                        file = open('PATH_TO_REPO/'+ proj + '/Downloaded_Codes_' +proj + '/' + directory + '/'+ \n",
    "                                    base_patch + '.'+ file_extension) \n",
    "\n",
    "                        content = file.readlines()\n",
    "                        lines.append(content[index_reviewed_line])\n",
    "                        messages.append(row['message'])\n",
    "                        files.append(elem[\"Java_file\"].lower())   \n",
    "                        print('found')\n",
    "                        break\n",
    "\n",
    "                print('iteration ' + str(key1) + ' out of: ' + str(len(proj_gerrit)))\n",
    "\n",
    "                df_code_comments = pd.DataFrame({'project': 'eclipse',\n",
    "                                                              'Id': 'not given',\n",
    "                                                              'revision': 'not given',\n",
    "                                                              'content': lines,\n",
    "                                                              'review_comment': messages,\n",
    "                                                              'filename': files})\n",
    "                df_code_comments.to_csv('PATH_TO_REPO' + proj + '_comments_code_raw.csv', index=False, sep='$')\n",
    "                return df_code_comments\n",
    "        except (Exception):\n",
    "                print(Exception)"
   ]
  }
 ],
 "metadata": {
  "kernelspec": {
   "display_name": "Python 3",
   "language": "python",
   "name": "python3"
  },
  "language_info": {
   "codemirror_mode": {
    "name": "ipython",
    "version": 3
   },
   "file_extension": ".py",
   "mimetype": "text/x-python",
   "name": "python",
   "nbconvert_exporter": "python",
   "pygments_lexer": "ipython3",
   "version": "3.8.5"
  }
 },
 "nbformat": 4,
 "nbformat_minor": 5
}
