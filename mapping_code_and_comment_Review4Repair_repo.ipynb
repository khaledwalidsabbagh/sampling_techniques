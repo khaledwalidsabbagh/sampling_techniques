{
 "cells": [
  {
   "cell_type": "code",
   "execution_count": null,
   "id": "396e9eff",
   "metadata": {},
   "outputs": [],
   "source": [
    "import requests\n",
    "import urllib\n",
    "import json\n",
    "import csv\n",
    "import pandas as pd\n",
    "import configparser\n",
    "import json\n",
    "from pandas.io.json import json_normalize\n",
    "import os\n",
    "import glob"
   ]
  },
  {
   "cell_type": "code",
   "execution_count": null,
   "id": "0dbc99db",
   "metadata": {},
   "outputs": [],
   "source": [
    "folder = 'PATH_TO_REPO/Review4Repair_mapped_code_with_comments/'\n",
    "project_folders = [name for name in os.listdir(folder) if os.path.isdir(os.path.join(folder, name))]"
   ]
  },
  {
   "cell_type": "code",
   "execution_count": null,
   "id": "4f815860",
   "metadata": {},
   "outputs": [],
   "source": []
  }
 ],
 "metadata": {
  "kernelspec": {
   "display_name": "Python 3",
   "language": "python",
   "name": "python3"
  },
  "language_info": {
   "codemirror_mode": {
    "name": "ipython",
    "version": 3
   },
   "file_extension": ".py",
   "mimetype": "text/x-python",
   "name": "python",
   "nbconvert_exporter": "python",
   "pygments_lexer": "ipython3",
   "version": "3.8.5"
  }
 },
 "nbformat": 4,
 "nbformat_minor": 5
}
