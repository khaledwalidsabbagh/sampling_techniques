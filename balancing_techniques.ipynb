{
 "cells": [
  {
   "cell_type": "code",
   "execution_count": null,
   "id": "f77b1707",
   "metadata": {
    "ExecuteTime": {
     "end_time": "2023-04-16T22:27:24.706685Z",
     "start_time": "2023-04-16T22:27:21.470135Z"
    }
   },
   "outputs": [],
   "source": [
    "import pandas as pd\n",
    "import numpy as np\n",
    "from imblearn.over_sampling import RandomOverSampler\n",
    "from imblearn.over_sampling import SMOTE\n",
    "import os\n",
    "from imblearn.under_sampling import NearMiss\n",
    "from imblearn.under_sampling import InstanceHardnessThreshold\n",
    "from imblearn.under_sampling import EditedNearestNeighbours\n",
    "from imblearn.over_sampling import SVMSMOTE\n",
    "from imblearn.over_sampling import ADASYN\n",
    "import csv\n",
    "from imblearn.under_sampling import TomekLinks"
   ]
  },
  {
   "cell_type": "code",
   "execution_count": null,
   "id": "6497a5c2",
   "metadata": {},
   "outputs": [],
   "source": [
    "path_to_data = r'PATH TO DIRECTORY WHERE THE ORIGINAL TRAINING DATA IS LOCATED'\n",
    "\n",
    "for subdir, dirs, files in os.walk(path_to_data):\n",
    "                count = 0\n",
    "                if subdir.endswith('training'):\n",
    "                   try:\n",
    "                       for training_file in os.listdir(os.path.join(subdir)):\n",
    "                           f = os.path.join(subdir+ '/' + training_file)\n",
    "                           if 'x_train_lines' in training_file:\n",
    "                                training_data = pd.read_csv(f, sep='$', index_col=False, encoding='utf-8')\n",
    "                                training_data = training_data.drop('class_value', axis= 1)   \n",
    "                                \n",
    "                                # replace the training filename with the class values' filename in the filepath\n",
    "                                f = f.replace('x_train_lines', 'x_train_dep')\n",
    "                                training_data['class_value'] = pd.read_csv(f)\n",
    "\n",
    "                                project_name = subdir.split('/')[-2]\n",
    "                                Balance_SMOTE(data, project_name, str(f[-5]))                                \n",
    "                                NearMiss_data(data, project_name,  str(f[-5]))\n",
    "                                InstanceHardnessThreshold_data(data, project_name,  str(f[-5]))\n",
    "                                EditedNearestNeighbours_data(data, project_name,  str(f[-5]))\n",
    "                                SVMSMOTE_data(data, project_name,  str(f[-5]))\n",
    "                                ADASYN_data(data, project_name,  str(f[-5])) \n",
    "                                Tomek_Links(data, project_name,  str(f[-5]))\n",
    "                                Oversample(data, len(data[data['class_value'] == '1'])\n",
    "                               \n",
    "                   except:\n",
    "                        print('an exeption occured') \n",
    "             "
   ]
  },
  {
   "cell_type": "code",
   "execution_count": null,
   "id": "e4f979c0",
   "metadata": {},
   "outputs": [],
   "source": [
    "def Tomek_Links(data, project_name, count):\n",
    "    X = data.drop('class_value', axis=1)\n",
    "    X = X.iloc[:, 2:(len(data.columns) - 4)].astype(int)\n",
    "    y = data['class_value'].astype(int)\n",
    "    tl = TomekLinks()\n",
    "    X_resampled, y_resampled = tl.fit_resample(X, y)\n",
    "    balanced_data = pd.concat([X_resampled, y_resampled], axis=1)\n",
    "\n",
    "    balanced_data.to_csv('PATH TO DIRECTTORY WHERE ALL PROJECT DATA ARE PLACED' + project_name + \n",
    "                         '/training/tomek_links/balanced_tomek' + \n",
    "                         str(count) +'.csv', index=False)"
   ]
  },
  {
   "cell_type": "code",
   "execution_count": null,
   "id": "c9c1fe0a",
   "metadata": {},
   "outputs": [],
   "source": [
    "def ADASYN_data(data, project_name, count):\n",
    "    X = data.drop('class_value', axis=1)\n",
    "    X = X.iloc[:, 2:(len(data.columns) - 4)].astype(int)\n",
    "    y = data['class_value'].astype(int)\n",
    "    adasyn = ADASYN()\n",
    "    X_resampled, y_resampled = adasyn.fit_resample(X, y)\n",
    "    \n",
    "    balanced_data = pd.concat([X_resampled, y_resampled], axis=1)\n",
    "\n",
    "    balanced_data.to_csv('PATH TO DIRECTTORY WHERE ALL PROJECT DATA ARE PLACED' + project_name + \n",
    "                         '/training/adasyn/balanced_adasyn' + \n",
    "                            str(count) +'.csv', index=False)"
   ]
  },
  {
   "cell_type": "code",
   "execution_count": null,
   "id": "548a3445",
   "metadata": {},
   "outputs": [],
   "source": [
    "def SVMSMOTE_data(data, project_name, count):\n",
    "    X = data.drop('class_value', axis=1)\n",
    "    X = X.iloc[:, 2:(len(data.columns) - 4)].astype(int)\n",
    "    y = data['class_value'].astype(int)\n",
    "    svm_smote = SVMSMOTE()\n",
    "    X_resampled, y_resampled = svm_smote.fit_resample(X, y)\n",
    "    \n",
    "    balanced_data = pd.concat([X_resampled, y_resampled], axis=1)\n",
    "\n",
    "    balanced_data.to_csv('PATH TO DIRECTTORY WHERE ALL PROJECT DATA ARE PLACED' + project_name + \n",
    "                         '/training/svmsmote/balanced_svm' + \n",
    "                            str(count) +'.csv', index=False)"
   ]
  },
  {
   "cell_type": "code",
   "execution_count": null,
   "id": "116ac8e1",
   "metadata": {},
   "outputs": [],
   "source": [
    "def EditedNearestNeighbours_data(data, project_name, count):\n",
    "    X = data.drop('class_value', axis=1)\n",
    "    X = X.iloc[:, 2:(len(data.columns) - 4)].astype(int)\n",
    "    y = data['class_value'].astype(int)\n",
    "    enn = EditedNearestNeighbours()\n",
    "    X_resampled, y_resampled = enn.fit_resample(X, y)\n",
    "    \n",
    "    balanced_data = pd.concat([X_resampled, y_resampled], axis=1)\n",
    "\n",
    "    balanced_data.to_csv('PATH TO DIRECTTORY WHERE ALL PROJECT DATA ARE PLACED' + project_name + \n",
    "                         '/training/editednearestneighbor/balanced_enn' + \n",
    "                            str(count) +'.csv', index=False)"
   ]
  },
  {
   "cell_type": "code",
   "execution_count": null,
   "id": "76258ad9",
   "metadata": {},
   "outputs": [],
   "source": [
    "def InstanceHardnessThreshold_data(data, project_name, count):\n",
    "    X = data.drop('class_value', axis=1)\n",
    "    X = X.iloc[:, 2:(len(data.columns) - 4)].astype(int)\n",
    "    y = data['class_value'].astype(int)\n",
    "    iht = InstanceHardnessThreshold()\n",
    "    X_resampled, y_resampled = iht.fit_resample(X, y)\n",
    "    \n",
    "    balanced_data = pd.concat([X_resampled, y_resampled], axis=1)\n",
    "\n",
    "    balanced_data.to_csv('PATH TO DIRECTTORY WHERE ALL PROJECT DATA ARE PLACED' + project_name + \n",
    "                         '/training/instancehardness/balanced_ish' + \n",
    "                            str(count) +'.csv', index=False)"
   ]
  },
  {
   "cell_type": "code",
   "execution_count": null,
   "id": "2c24ab81",
   "metadata": {},
   "outputs": [],
   "source": [
    "def NearMiss_data(data, project_name, count):\n",
    "    X = data.drop('class_value', axis=1)\n",
    "    y = data['class_value']\n",
    "    nm = NearMiss()\n",
    "    X_resampled, y_resampled = nm.fit_resample(X.iloc[:, 2:(len(data.columns) - 4)], y)\n",
    "    balanced_data = pd.concat([X_resampled, y_resampled], axis=1)\n",
    "    balanced_data.to_csv('PATH TO DIRECTTORY WHERE ALL PROJECT DATA ARE PLACED' + project_name + \n",
    "                         '/training/nearmiss/balanced_nearmiss' + \n",
    "                            str(count) +'.csv', index=False)\n",
    "    "
   ]
  },
  {
   "cell_type": "code",
   "execution_count": null,
   "id": "d98f4736",
   "metadata": {},
   "outputs": [],
   "source": [
    "def Balance_SMOTE(data, project_name, count):\n",
    "    X = data.drop('class_value', axis=1)\n",
    "    y = data['class_value']\n",
    "\n",
    "    sm = SMOTE(random_state=42, k_neighbors=2)\n",
    "    X_resampled, y_resampled = sm.fit_resample(X.iloc[:, 2:(len(data.columns) - 4)], y)\n",
    "\n",
    "    \n",
    "    balanced_data = pd.concat([X_resampled, y_resampled], axis=1)\n",
    "    balanced_data.to_csv('PATH TO DIRECTTORY WHERE ALL PROJECT DATA ARE PLACED' + project_name + \n",
    "                         '/training/smote/balanced_smote' + \n",
    "                         str(count) +'.csv', index=False)\n"
   ]
  },
  {
   "cell_type": "code",
   "execution_count": 3,
   "id": "e0c43a7a",
   "metadata": {
    "ExecuteTime": {
     "end_time": "2023-04-16T22:28:22.822258Z",
     "start_time": "2023-04-16T22:28:22.815494Z"
    }
   },
   "outputs": [],
   "source": [
    "def Oversample(data, majority_samples):\n",
    "    \n",
    "    X = data.drop(columns=['class_value'])\n",
    "    y = data['class_value']\n",
    "    \n",
    "    # Find the indices of the minority class\n",
    "    minority_indices = np.where(y == 0)[0]\n",
    "    \n",
    "    # Calculate the number of samples to generate\n",
    "    n_minority_samples = majority_samples - len(minority_indices)\n",
    "    \n",
    "    # Randomly sample with replacement from the minority class\n",
    "    minority_samples = np.random.choice(minority_indices, size=n_minority_samples, replace=True)\n",
    "    \n",
    "    # Concatenate the minority samples with the original feature matrix and target vector\n",
    "    X_oversampled = pd.concat([X, X.iloc[minority_samples]], axis=0)\n",
    "    y_oversampled = pd.concat([y, y.iloc[minority_samples]], axis=0)\n",
    "    \n",
    "    # Combine the oversampled feature matrix and target vector into a new DataFrame\n",
    "    df_oversampled = pd.concat([X_oversampled, y_oversampled], axis=1)\n",
    "    \n",
    "    return df_oversampled"
   ]
  },
  {
   "cell_type": "code",
   "execution_count": null,
   "id": "509d22e9",
   "metadata": {},
   "outputs": [],
   "source": []
  }
 ],
 "metadata": {
  "kernelspec": {
   "display_name": "Python 3",
   "language": "python",
   "name": "python3"
  },
  "language_info": {
   "codemirror_mode": {
    "name": "ipython",
    "version": 3
   },
   "file_extension": ".py",
   "mimetype": "text/x-python",
   "name": "python",
   "nbconvert_exporter": "python",
   "pygments_lexer": "ipython3",
   "version": "3.8.5"
  }
 },
 "nbformat": 4,
 "nbformat_minor": 5
}
